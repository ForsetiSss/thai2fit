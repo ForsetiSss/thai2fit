{
 "cells": [
  {
   "cell_type": "markdown",
   "metadata": {},
   "source": [
    "# QRNN Thai2Fit Classification\n",
    "\n",
    "This notebook demonstrates how to use the [ULMFit model](https://arxiv.org/abs/1801.06146) implemented by`thai2fit` for text classification. We use [Wongnai Challenge: Review Rating Prediction](https://www.kaggle.com/c/wongnai-challenge-review-rating-prediction) as our benchmark as it is the only sizeable and publicly available text classification dataset at the time of writing (June 21, 2018). It has 39,999 reviews for training and validation, and 6,203 reviews for testing. Our workflow is as follows:\n",
    "\n",
    "* Perform 85/15 train-validation split\n",
    "* Minimal text cleaning and tokenization using `newmm` engine of `pyThaiNLP`\n",
    "* Get embeddings of Wongnai dataset from all the data available (train and test sets)\n",
    "* Load pretrained Thai Wikipedia embeddings; for those embeddings which exist only in Wongnai dataset, we use the average of Wikipedia embeddings instead\n",
    "* Train language model based on all the data available on Wongnai dataset\n",
    "* Replace the top and train the classifier based on the training set by gradual unfreezing"
   ]
  },
  {
   "cell_type": "markdown",
   "metadata": {},
   "source": [
    "![alt text](../wongnai_data/misc/submission.jpg \"Submission\")"
   ]
  },
  {
   "cell_type": "markdown",
   "metadata": {},
   "source": [
    "![alt text](../wongnai_data/misc/leaderboard.jpg \"Leaderboards\")"
   ]
  },
  {
   "cell_type": "markdown",
   "metadata": {},
   "source": [
    "## Imports"
   ]
  },
  {
   "cell_type": "code",
   "execution_count": 1,
   "metadata": {},
   "outputs": [],
   "source": [
    "%reload_ext autoreload\n",
    "%autoreload 2\n",
    "%matplotlib inline\n",
    "\n",
    "import numpy as np\n",
    "import dill as pickle\n",
    "from collections import Counter\n",
    "from pathlib import Path\n",
    "from sklearn.model_selection import train_test_split\n",
    "\n",
    "\n",
    "from fastai.text import *\n",
    "import fastai\n",
    "from pythainlp.ulmfit import *\n",
    "import pythainlp\n",
    "\n",
    "\n",
    "DATA_PATH='../wongnai_data/'\n",
    "RAW_PATH = f'{DATA_PATH}raw/'\n",
    "MODEL_PATH = f'{DATA_PATH}models/'\n",
    "\n",
    "raw_files = !ls {RAW_PATH}"
   ]
  },
  {
   "cell_type": "markdown",
   "metadata": {},
   "source": [
    "## Train/Validation Sets\n",
    "\n",
    "We use data from [Wongnai Challenge: Review Rating Prediction](https://www.kaggle.com/c/wongnai-challenge-review-rating-prediction). The training data consists of 39,999 restaurant reviews from unknown number of reviewers labeled one to five stars, with the schema `(label,review)`. We use 85/15 train-validation split. The test set has 6,203 reviews from the same number of reviewers. No information accuracy is 46.9%."
   ]
  },
  {
   "cell_type": "code",
   "execution_count": 2,
   "metadata": {},
   "outputs": [],
   "source": [
    "raw_train = pd.read_csv(f'{RAW_PATH}w_review_train.csv',sep=';',header=None)\n",
    "raw_train = raw_train.iloc[:,[1,0]]\n",
    "raw_train.columns = ['label','review']\n",
    "raw_test = pd.read_csv(f'{RAW_PATH}test_file.csv',sep=';')\n",
    "submission =  pd.read_csv(f'{RAW_PATH}sample_submission.csv',sep=',')"
   ]
  },
  {
   "cell_type": "code",
   "execution_count": 3,
   "metadata": {},
   "outputs": [
    {
     "name": "stdout",
     "output_type": "stream",
     "text": [
      "(40000, 2)\n"
     ]
    },
    {
     "data": {
      "text/html": [
       "<div>\n",
       "<style scoped>\n",
       "    .dataframe tbody tr th:only-of-type {\n",
       "        vertical-align: middle;\n",
       "    }\n",
       "\n",
       "    .dataframe tbody tr th {\n",
       "        vertical-align: top;\n",
       "    }\n",
       "\n",
       "    .dataframe thead th {\n",
       "        text-align: right;\n",
       "    }\n",
       "</style>\n",
       "<table border=\"1\" class=\"dataframe\">\n",
       "  <thead>\n",
       "    <tr style=\"text-align: right;\">\n",
       "      <th></th>\n",
       "      <th>label</th>\n",
       "      <th>review</th>\n",
       "    </tr>\n",
       "  </thead>\n",
       "  <tbody>\n",
       "    <tr>\n",
       "      <th>0</th>\n",
       "      <td>3</td>\n",
       "      <td>ร้านอาหารใหญ่มากกกกกกก \\nเลี้ยวเข้ามาเจอห้องน้...</td>\n",
       "    </tr>\n",
       "    <tr>\n",
       "      <th>1</th>\n",
       "      <td>4</td>\n",
       "      <td>อาหารที่นี่เป็นอาหารจีนแคะที่หากินยากในบ้านเรา...</td>\n",
       "    </tr>\n",
       "    <tr>\n",
       "      <th>2</th>\n",
       "      <td>3</td>\n",
       "      <td>ปอเปี๊ยะสด ทุกวันนี้รู้สึกว่าหากินยาก (ร้านที่...</td>\n",
       "    </tr>\n",
       "    <tr>\n",
       "      <th>3</th>\n",
       "      <td>5</td>\n",
       "      <td>รัานคัพเค้กในเมืองไทยมีไม่มาก หลายๆคนอาจจะสงสั...</td>\n",
       "    </tr>\n",
       "    <tr>\n",
       "      <th>4</th>\n",
       "      <td>5</td>\n",
       "      <td>อร่อย!!! เดินผ่านDigital gatewayทุกวัน ไม่ยักร...</td>\n",
       "    </tr>\n",
       "  </tbody>\n",
       "</table>\n",
       "</div>"
      ],
      "text/plain": [
       "   label                                             review\n",
       "0      3  ร้านอาหารใหญ่มากกกกกกก \\nเลี้ยวเข้ามาเจอห้องน้...\n",
       "1      4  อาหารที่นี่เป็นอาหารจีนแคะที่หากินยากในบ้านเรา...\n",
       "2      3  ปอเปี๊ยะสด ทุกวันนี้รู้สึกว่าหากินยาก (ร้านที่...\n",
       "3      5  รัานคัพเค้กในเมืองไทยมีไม่มาก หลายๆคนอาจจะสงสั...\n",
       "4      5  อร่อย!!! เดินผ่านDigital gatewayทุกวัน ไม่ยักร..."
      ]
     },
     "execution_count": 3,
     "metadata": {},
     "output_type": "execute_result"
    }
   ],
   "source": [
    "print(raw_train.shape)\n",
    "raw_train.head()"
   ]
  },
  {
   "cell_type": "code",
   "execution_count": 4,
   "metadata": {},
   "outputs": [
    {
     "data": {
      "text/plain": [
       "Counter({3: 12171, 4: 18770, 5: 6799, 2: 1845, 1: 415})"
      ]
     },
     "execution_count": 4,
     "metadata": {},
     "output_type": "execute_result"
    }
   ],
   "source": [
    "cnt = Counter(raw_train['label'])\n",
    "cnt"
   ]
  },
  {
   "cell_type": "code",
   "execution_count": 5,
   "metadata": {},
   "outputs": [
    {
     "data": {
      "text/plain": [
       "0.46925"
      ]
     },
     "execution_count": 5,
     "metadata": {},
     "output_type": "execute_result"
    }
   ],
   "source": [
    "#baseline\n",
    "cnt.most_common(1)[0][1] / raw_train.shape[0]"
   ]
  },
  {
   "cell_type": "code",
   "execution_count": 6,
   "metadata": {},
   "outputs": [
    {
     "data": {
      "text/html": [
       "<div>\n",
       "<style scoped>\n",
       "    .dataframe tbody tr th:only-of-type {\n",
       "        vertical-align: middle;\n",
       "    }\n",
       "\n",
       "    .dataframe tbody tr th {\n",
       "        vertical-align: top;\n",
       "    }\n",
       "\n",
       "    .dataframe thead th {\n",
       "        text-align: right;\n",
       "    }\n",
       "</style>\n",
       "<table border=\"1\" class=\"dataframe\">\n",
       "  <thead>\n",
       "    <tr style=\"text-align: right;\">\n",
       "      <th></th>\n",
       "      <th>reviewID</th>\n",
       "      <th>review</th>\n",
       "    </tr>\n",
       "  </thead>\n",
       "  <tbody>\n",
       "    <tr>\n",
       "      <th>0</th>\n",
       "      <td>1</td>\n",
       "      <td>ร้านนี้จะอยู่เส้นสันกำแพง-แม่ออน เลยแยกบ่...</td>\n",
       "    </tr>\n",
       "    <tr>\n",
       "      <th>1</th>\n",
       "      <td>2</td>\n",
       "      <td>สั่งไป2 เมนู คือมัชฉะลาเต้ร้อน กับ ไอศครีมชาเข...</td>\n",
       "    </tr>\n",
       "    <tr>\n",
       "      <th>2</th>\n",
       "      <td>3</td>\n",
       "      <td>ครัววงเดือน  \\n\\nหิวดึกๆ ตระเวนหาร้านทาน มาเจอ...</td>\n",
       "    </tr>\n",
       "    <tr>\n",
       "      <th>3</th>\n",
       "      <td>4</td>\n",
       "      <td>จะว่าเป็นเจ้าประจำก็คงไม่ผิด แต่ก็ไม่กล้า...</td>\n",
       "    </tr>\n",
       "    <tr>\n",
       "      <th>4</th>\n",
       "      <td>5</td>\n",
       "      <td>ถ้าคิดถึงสลัดผมคิดถึงร้านนี้เป็นร้านแรกๆเลยครั...</td>\n",
       "    </tr>\n",
       "  </tbody>\n",
       "</table>\n",
       "</div>"
      ],
      "text/plain": [
       "   reviewID                                             review\n",
       "0         1       ร้านนี้จะอยู่เส้นสันกำแพง-แม่ออน เลยแยกบ่...\n",
       "1         2  สั่งไป2 เมนู คือมัชฉะลาเต้ร้อน กับ ไอศครีมชาเข...\n",
       "2         3  ครัววงเดือน  \\n\\nหิวดึกๆ ตระเวนหาร้านทาน มาเจอ...\n",
       "3         4       จะว่าเป็นเจ้าประจำก็คงไม่ผิด แต่ก็ไม่กล้า...\n",
       "4         5  ถ้าคิดถึงสลัดผมคิดถึงร้านนี้เป็นร้านแรกๆเลยครั..."
      ]
     },
     "execution_count": 6,
     "metadata": {},
     "output_type": "execute_result"
    }
   ],
   "source": [
    "raw_test.head()"
   ]
  },
  {
   "cell_type": "code",
   "execution_count": 7,
   "metadata": {},
   "outputs": [
    {
     "data": {
      "text/html": [
       "<div>\n",
       "<style scoped>\n",
       "    .dataframe tbody tr th:only-of-type {\n",
       "        vertical-align: middle;\n",
       "    }\n",
       "\n",
       "    .dataframe tbody tr th {\n",
       "        vertical-align: top;\n",
       "    }\n",
       "\n",
       "    .dataframe thead th {\n",
       "        text-align: right;\n",
       "    }\n",
       "</style>\n",
       "<table border=\"1\" class=\"dataframe\">\n",
       "  <thead>\n",
       "    <tr style=\"text-align: right;\">\n",
       "      <th></th>\n",
       "      <th>reviewID</th>\n",
       "      <th>rating</th>\n",
       "    </tr>\n",
       "  </thead>\n",
       "  <tbody>\n",
       "    <tr>\n",
       "      <th>0</th>\n",
       "      <td>1</td>\n",
       "      <td>4</td>\n",
       "    </tr>\n",
       "    <tr>\n",
       "      <th>1</th>\n",
       "      <td>2</td>\n",
       "      <td>3</td>\n",
       "    </tr>\n",
       "    <tr>\n",
       "      <th>2</th>\n",
       "      <td>3</td>\n",
       "      <td>3</td>\n",
       "    </tr>\n",
       "    <tr>\n",
       "      <th>3</th>\n",
       "      <td>4</td>\n",
       "      <td>4</td>\n",
       "    </tr>\n",
       "  </tbody>\n",
       "</table>\n",
       "</div>"
      ],
      "text/plain": [
       "   reviewID  rating\n",
       "0         1       4\n",
       "1         2       3\n",
       "2         3       3\n",
       "3         4       4"
      ]
     },
     "execution_count": 7,
     "metadata": {},
     "output_type": "execute_result"
    }
   ],
   "source": [
    "submission.head()"
   ]
  },
  {
   "cell_type": "code",
   "execution_count": 8,
   "metadata": {},
   "outputs": [],
   "source": [
    "#test df\n",
    "raw_test = pd.read_csv(f'{RAW_PATH}test_file.csv',sep=';')\n",
    "df_tst = pd.DataFrame({'label':raw_test['reviewID'],'review':raw_test['review']})\n",
    "df_tst.to_csv(f'{DATA_PATH}test.csv', header=False, index=False)"
   ]
  },
  {
   "cell_type": "code",
   "execution_count": 9,
   "metadata": {},
   "outputs": [],
   "source": [
    "#train/validation/train_language_model split for fastText validation\n",
    "df_trn, df_val = train_test_split(raw_train, test_size = 0.15, random_state = 1412)\n",
    "\n",
    "df_trn.to_csv(f'{DATA_PATH}train_fasttext.csv', header=False, index=False)\n",
    "df_val.to_csv(f'{DATA_PATH}valid_fasttext.csv', header=False, index=False)"
   ]
  },
  {
   "cell_type": "code",
   "execution_count": 10,
   "metadata": {},
   "outputs": [],
   "source": [
    "#combine train and validation for our classification and use everything for our language modeling\n",
    "df_trn = raw_train.copy()\n",
    "df_lm = pd.concat([df_trn,df_tst])\n",
    "df_trn.to_csv(f'{DATA_PATH}train.csv', header=False, index=False)\n",
    "df_lm.to_csv(f'{DATA_PATH}train_lm.csv', header=False, index=False)"
   ]
  },
  {
   "cell_type": "code",
   "execution_count": 11,
   "metadata": {},
   "outputs": [
    {
     "data": {
      "text/plain": [
       "((40000, 2), (6000, 2), (46203, 2))"
      ]
     },
     "execution_count": 11,
     "metadata": {},
     "output_type": "execute_result"
    }
   ],
   "source": [
    "df_trn.shape,df_val.shape,df_lm.shape"
   ]
  },
  {
   "cell_type": "markdown",
   "metadata": {},
   "source": [
    "## Language Modeling"
   ]
  },
  {
   "cell_type": "markdown",
   "metadata": {},
   "source": [
    "### Text Processing"
   ]
  },
  {
   "cell_type": "markdown",
   "metadata": {},
   "source": [
    "We first determine the vocab for the reviews, then train a language model based on our training set. We perform the following  text processing:\n",
    "\n",
    "* Fix html tags to plain texts\n",
    "* Lowercase all English words and if a word is written in all caps, we put it in a lower case and add `xxup` before\n",
    "* Repetitive characters: Thai usually emphasizes adjectives by repeating the last character such as `อร่อยมากกกกกกก` to `อร่อยมาก xxrep 7 ` so that the word still retains its original form. \n",
    "* Normalize character order: for instance `นำ้` to `น้ำ`\n",
    "* Add spaces around / and #\n",
    "* Remove multiple spaces and newlines\n",
    "* Remove empty brackets of all types (`([{`) which might result from cleaning up\n",
    "* `pyThaiNLP`'s `newmm` word tokenizer with frozen dictionary (`engine ='ulmfit'`)  is used to tokenize the texts."
   ]
  },
  {
   "cell_type": "code",
   "execution_count": 12,
   "metadata": {},
   "outputs": [],
   "source": [
    "# tt = Tokenizer(tok_func = ThaiTokenizer, lang = 'th', rules = thai_rules)\n",
    "# data_lm = TextLMDataBunch.from_csv(path = Path(DATA_PATH),csv_name='train_lm.csv',valid_pct=0.1,\n",
    "#                                   tokenizer=tt, vocab = None)\n",
    "# data_lm.save('lm_db')"
   ]
  },
  {
   "cell_type": "code",
   "execution_count": 13,
   "metadata": {},
   "outputs": [],
   "source": [
    "data_lm = TextLMDataBunch.load(DATA_PATH,'lm_db',bs=64)"
   ]
  },
  {
   "cell_type": "code",
   "execution_count": 14,
   "metadata": {},
   "outputs": [
    {
     "data": {
      "text/plain": [
       "21749"
      ]
     },
     "execution_count": 14,
     "metadata": {},
     "output_type": "execute_result"
    }
   ],
   "source": [
    "len(data_lm.vocab.itos)"
   ]
  },
  {
   "cell_type": "code",
   "execution_count": 15,
   "metadata": {},
   "outputs": [
    {
     "data": {
      "text/plain": [
       "['ร้าน', '\\n', 'มา', 'ที่', 'ๆ', 'มี', 'ก็', 'ไม่', 'เลย', 'ค่ะ']"
      ]
     },
     "execution_count": 15,
     "metadata": {},
     "output_type": "execute_result"
    }
   ],
   "source": [
    "data_lm.vocab.itos[3:13]"
   ]
  },
  {
   "cell_type": "code",
   "execution_count": 16,
   "metadata": {},
   "outputs": [
    {
     "data": {
      "text/plain": [
       "(4620, 41582)"
      ]
     },
     "execution_count": 16,
     "metadata": {},
     "output_type": "execute_result"
    }
   ],
   "source": [
    "len(data_lm.valid_ds), len(data_lm.train_ds)"
   ]
  },
  {
   "cell_type": "markdown",
   "metadata": {},
   "source": [
    "### Load Pretrained Language Model"
   ]
  },
  {
   "cell_type": "markdown",
   "metadata": {},
   "source": [
    "Instead of starting from random weights, we import the language model pretrained on Wikipedia (see `pretrained_wiki.ipynb`). For words that appear only in the Wongnai dataset but not Wikipedia, we start with the average of all embeddings instead. Max vocab size is set at 60,000 and minimum frequency of 2 consistent with the pretrained model."
   ]
  },
  {
   "cell_type": "markdown",
   "metadata": {},
   "source": [
    "### Train Domain-Specific Language Model"
   ]
  },
  {
   "cell_type": "code",
   "execution_count": 25,
   "metadata": {},
   "outputs": [],
   "source": [
    "#heuristic reference from imdb_scripts\n",
    "learn = language_model_learner(data_lm, bptt = 70, emb_sz = 400, nh = 1550, nl = 3,\n",
    "                                  drop_mult = 0.3, bias = True, qrnn = True, \n",
    "                                  alpha=2, beta = 1,\n",
    "                                  pretrained_fnames = pythainlp.ulmfit._THWIKI_QRNN)\n",
    "learn.metrics = [accuracy]\n",
    "learn.opt_func = partial(optim.Adam, betas=(0.8, 0.99))\n",
    "learn.wd = 1e-7"
   ]
  },
  {
   "cell_type": "code",
   "execution_count": 28,
   "metadata": {},
   "outputs": [
    {
     "name": "stdout",
     "output_type": "stream",
     "text": [
      "LR Finder is complete, type {learner_name}.recorder.plot() to see the graph.\n"
     ]
    },
    {
     "data": {
      "image/png": "[encoded data removed]",
      "text/plain": [
       "<Figure size 432x288 with 1 Axes>"
      ]
     },
     "metadata": {},
     "output_type": "display_data"
    }
   ],
   "source": [
    "learn.lr_find(start_lr = 1e-2, end_lr=0.2)\n",
    "learn.recorder.plot()"
   ]
  },
  {
   "cell_type": "code",
   "execution_count": 36,
   "metadata": {},
   "outputs": [],
   "source": [
    "#heuristic reference from imdb_scripts\n",
    "learn = language_model_learner(data_lm, bptt = 70, emb_sz = 400, nh = 1550, nl = 3,\n",
    "                                  drop_mult = 0.1, bias = True, qrnn = True, \n",
    "                                  alpha=2, beta = 1, clip=1.,\n",
    "                                  pretrained_fnames = THWIKI)\n",
    "learn.metrics = [accuracy]\n",
    "learn.opt_func = partial(optim.Adam, betas=(0.8, 0.99))"
   ]
  },
  {
   "cell_type": "code",
   "execution_count": 37,
   "metadata": {},
   "outputs": [],
   "source": [
    "#optimal learning rate and wd\n",
    "lr = 1e-2\n",
    "wd = 1e-7\n",
    "learn.freeze()"
   ]
  },
  {
   "cell_type": "code",
   "execution_count": 38,
   "metadata": {},
   "outputs": [
    {
     "name": "stdout",
     "output_type": "stream",
     "text": [
      "Total time: 08:19\n",
      "epoch  train_loss  valid_loss  accuracy\n",
      "1      5.055595    4.809116    0.259951  (08:19)\n",
      "\n"
     ]
    }
   ],
   "source": [
    "#train frozen\n",
    "learn.fit_one_cycle(cyc_len = 1, \n",
    "                    max_lr= lr, #learning rate\n",
    "                    div_factor=20, #factor to discount from max\n",
    "                    moms = (0.8, 0.7), #momentums\n",
    "                    pct_start = 0.1, #where the peak is at \n",
    "                    wd = wd #weight decay\n",
    "                   ) "
   ]
  },
  {
   "cell_type": "raw",
   "metadata": {},
   "source": [
    "Total time: 08:19\n",
    "epoch  train_loss  valid_loss  accuracy\n",
    "1      5.055595    4.809116    0.259951  (08:19)"
   ]
  },
  {
   "cell_type": "code",
   "execution_count": 102,
   "metadata": {},
   "outputs": [
    {
     "name": "stdout",
     "output_type": "stream",
     "text": [
      "Total time: 47:24\n",
      "epoch  train_loss  valid_loss  accuracy\n",
      "1      4.521193    4.358531    0.281094  (09:30)\n",
      "2      4.340217    4.252639    0.285999  (09:31)\n",
      "3      4.158906    4.068014    0.301785  (09:28)\n",
      "4      4.017428    3.984598    0.308997  (09:25)\n",
      "5      3.940736    3.962245    0.311535  (09:27)\n",
      "\n"
     ]
    }
   ],
   "source": [
    "#train unfrozen\n",
    "learn.unfreeze()\n",
    "learn.fit_one_cycle(cyc_len = 5, \n",
    "                    max_lr= lr, #learning rate\n",
    "                    div_factor=20, #factor to discount from max\n",
    "                    moms = (0.8, 0.7), #momentums\n",
    "                    pct_start = 0.3, #where the peak is at \n",
    "                    wd = wd #weight decay\n",
    "                   ) "
   ]
  },
  {
   "cell_type": "raw",
   "metadata": {},
   "source": [
    "Total time: 47:24\n",
    "epoch  train_loss  valid_loss  accuracy\n",
    "1      4.521193    4.358531    0.281094  (09:30)\n",
    "2      4.340217    4.252639    0.285999  (09:31)\n",
    "3      4.158906    4.068014    0.301785  (09:28)\n",
    "4      4.017428    3.984598    0.308997  (09:25)\n",
    "5      3.940736    3.962245    0.311535  (09:27)"
   ]
  },
  {
   "cell_type": "code",
   "execution_count": 103,
   "metadata": {},
   "outputs": [],
   "source": [
    "# learn.save('wongnai_lm_qrnn')\n",
    "# learn.save_encoder('wongnai_enc_qrnn')"
   ]
  },
  {
   "cell_type": "code",
   "execution_count": 104,
   "metadata": {},
   "outputs": [
    {
     "data": {
      "image/png": "[encoded data removed]",
      "text/plain": [
       "<Figure size 432x288 with 1 Axes>"
      ]
     },
     "metadata": {},
     "output_type": "display_data"
    }
   ],
   "source": [
    "learn.recorder.plot_losses()"
   ]
  },
  {
   "cell_type": "code",
   "execution_count": 39,
   "metadata": {},
   "outputs": [
    {
     "name": "stdout",
     "output_type": "stream",
     "text": [
      "LM loaded\n"
     ]
    }
   ],
   "source": [
    "learn.load('wongnai_lm')\n",
    "print('LM loaded')"
   ]
  },
  {
   "cell_type": "code",
   "execution_count": 40,
   "metadata": {},
   "outputs": [
    {
     "data": {
      "text/plain": [
       "'ครับ เมนูที่สั่งวันนี้คือ 1. ข้าวหมูกรอบ (50 บาท) '"
      ]
     },
     "execution_count": 40,
     "metadata": {},
     "output_type": "execute_result"
    }
   ],
   "source": [
    "''.join(predict_sentence('ร้านนี้ดี',learn,data_lm,20))"
   ]
  },
  {
   "cell_type": "code",
   "execution_count": 41,
   "metadata": {},
   "outputs": [
    {
     "data": {
      "text/plain": [
       "'ล้ำค่ะ เมนูที่สั่งมาทานวันนี้คือ'"
      ]
     },
     "execution_count": 41,
     "metadata": {},
     "output_type": "execute_result"
    }
   ],
   "source": [
    "''.join(predict_sentence('อาหารอร่อย',learn,data_lm,10))"
   ]
  },
  {
   "cell_type": "code",
   "execution_count": 42,
   "metadata": {},
   "outputs": [
    {
     "data": {
      "text/plain": [
       "['ครับ', 'ค่ะ', ' ', 'จริงๆ', 'ไม่น้อย']"
      ]
     },
     "execution_count": 42,
     "metadata": {},
     "output_type": "execute_result"
    }
   ],
   "source": [
    "predict_word('ร้านนี้ดี',learn,data_lm)"
   ]
  },
  {
   "cell_type": "markdown",
   "metadata": {},
   "source": [
    "## Classification"
   ]
  },
  {
   "cell_type": "markdown",
   "metadata": {},
   "source": [
    "With the language model trained on Wongnai dataset, we use its embeddings to initialize the review classifier. We train the classifier using discriminative learning rates, slanted triangular learning rates, gradual unfreezing and a few other tricks detailed in the [ULMFit paper](https://arxiv.org/abs/1801.06146). We have found that training only the last two layers of the model seems to be the right balance for this dataset."
   ]
  },
  {
   "cell_type": "markdown",
   "metadata": {},
   "source": [
    "### Data Bunch"
   ]
  },
  {
   "cell_type": "markdown",
   "metadata": {},
   "source": [
    "Create another data bunch this time for classification, using the same vocab as the our finetuned language model."
   ]
  },
  {
   "cell_type": "code",
   "execution_count": 18,
   "metadata": {},
   "outputs": [],
   "source": [
    "# tt = Tokenizer(tok_func = ThaiTokenizer, lang = 'th', rules = thai_rules)\n",
    "# data_clas = TextClasDataBunch.from_csv(path=Path(DATA_PATH), csv_name='train.csv', valid_pct = 0.15, \n",
    "#                  test = 'test.csv', tokenizer=tt, vocab=data_lm.vocab)\n",
    "# data_clas.save('clas_db')"
   ]
  },
  {
   "cell_type": "code",
   "execution_count": 17,
   "metadata": {},
   "outputs": [],
   "source": [
    "data_clas = TextClasDataBunch.load(DATA_PATH,'clas_db',bs=64)"
   ]
  },
  {
   "cell_type": "code",
   "execution_count": 18,
   "metadata": {},
   "outputs": [
    {
     "data": {
      "text/plain": [
       "[4, 3, 2, 5, 1]"
      ]
     },
     "execution_count": 18,
     "metadata": {},
     "output_type": "execute_result"
    }
   ],
   "source": [
    "data_clas.train_ds.y.classes"
   ]
  },
  {
   "cell_type": "code",
   "execution_count": 19,
   "metadata": {},
   "outputs": [
    {
     "data": {
      "text/plain": [
       "True"
      ]
     },
     "execution_count": 19,
     "metadata": {},
     "output_type": "execute_result"
    }
   ],
   "source": [
    "#check if using right vocab\n",
    "len(data_clas.vocab.itos)==len(data_lm.vocab.itos)"
   ]
  },
  {
   "cell_type": "code",
   "execution_count": 20,
   "metadata": {},
   "outputs": [
    {
     "data": {
      "text/plain": [
       "21749"
      ]
     },
     "execution_count": 20,
     "metadata": {},
     "output_type": "execute_result"
    }
   ],
   "source": [
    "len(data_clas.vocab.itos)"
   ]
  },
  {
   "cell_type": "markdown",
   "metadata": {},
   "source": [
    "### Model"
   ]
  },
  {
   "cell_type": "markdown",
   "metadata": {},
   "source": [
    "We create a text classifier by combining our finetuned encoder with a linear model."
   ]
  },
  {
   "cell_type": "code",
   "execution_count": 36,
   "metadata": {},
   "outputs": [],
   "source": [
    "#heuristic reference from imdb_scripts\n",
    "learn = text_classifier_learner(data_clas, bptt = 70, emb_sz = 400, nh = 1550, nl = 3,\n",
    "                                  drop_mult = 0.3, qrnn = True, clip = 1.,\n",
    "                                  alpha=2, beta = 1)\n",
    "learn.metrics = [accuracy]\n",
    "learn.opt_func = partial(optim.Adam, betas=(0.7, 0.99))\n",
    "learn.wd=1e-7\n",
    "learn.load_encoder('wongnai_enc_qrnn')"
   ]
  },
  {
   "cell_type": "code",
   "execution_count": 37,
   "metadata": {},
   "outputs": [
    {
     "data": {
      "text/plain": [
       "SequentialRNN(\n",
       "  (0): MultiBatchRNNCore(\n",
       "    (encoder): Embedding(21749, 400, padding_idx=1)\n",
       "    (encoder_dp): EmbeddingDropout(\n",
       "      (emb): Embedding(21749, 400, padding_idx=1)\n",
       "    )\n",
       "    (rnns): ModuleList(\n",
       "      (0): QRNNLayer(\n",
       "        (linear): WeightDropout(\n",
       "          (module): Linear(in_features=800, out_features=4650, bias=True)\n",
       "        )\n",
       "      )\n",
       "      (1): QRNNLayer(\n",
       "        (linear): WeightDropout(\n",
       "          (module): Linear(in_features=1550, out_features=4650, bias=True)\n",
       "        )\n",
       "      )\n",
       "      (2): QRNNLayer(\n",
       "        (linear): WeightDropout(\n",
       "          (module): Linear(in_features=1550, out_features=1200, bias=True)\n",
       "        )\n",
       "      )\n",
       "    )\n",
       "    (input_dp): RNNDropout()\n",
       "    (hidden_dps): ModuleList(\n",
       "      (0): RNNDropout()\n",
       "      (1): RNNDropout()\n",
       "      (2): RNNDropout()\n",
       "    )\n",
       "  )\n",
       "  (1): PoolingLinearClassifier(\n",
       "    (layers): Sequential(\n",
       "      (0): BatchNorm1d(1200, eps=1e-05, momentum=0.1, affine=True, track_running_stats=True)\n",
       "      (1): Dropout(p=0.12)\n",
       "      (2): Linear(in_features=1200, out_features=50, bias=True)\n",
       "      (3): ReLU(inplace)\n",
       "      (4): BatchNorm1d(50, eps=1e-05, momentum=0.1, affine=True, track_running_stats=True)\n",
       "      (5): Dropout(p=0.1)\n",
       "      (6): Linear(in_features=50, out_features=5, bias=True)\n",
       "    )\n",
       "  )\n",
       ")"
      ]
     },
     "execution_count": 37,
     "metadata": {},
     "output_type": "execute_result"
    }
   ],
   "source": [
    "learn.model"
   ]
  },
  {
   "cell_type": "code",
   "execution_count": 38,
   "metadata": {},
   "outputs": [
    {
     "name": "stdout",
     "output_type": "stream",
     "text": [
      "LR Finder is complete, type {learner_name}.recorder.plot() to see the graph.\n"
     ]
    },
    {
     "data": {
      "image/png": "[encoded data removed]",
      "text/plain": [
       "<Figure size 432x288 with 1 Axes>"
      ]
     },
     "metadata": {},
     "output_type": "display_data"
    }
   ],
   "source": [
    "#select max lr\n",
    "learn.lr_find()\n",
    "learn.recorder.plot()"
   ]
  },
  {
   "cell_type": "markdown",
   "metadata": {},
   "source": [
    "### Training"
   ]
  },
  {
   "cell_type": "code",
   "execution_count": 21,
   "metadata": {},
   "outputs": [],
   "source": [
    "#heuristic reference from imdb_scripts\n",
    "learn = text_classifier_learner(data_clas, bptt = 70, emb_sz = 400, nh = 1550, nl = 3,\n",
    "                                  drop_mult = 0.2, qrnn = True, clip=10.,\n",
    "                                  alpha=2, beta = 1)\n",
    "learn.metrics = [accuracy]\n",
    "learn.opt_func = partial(optim.Adam, betas=(0.7, 0.99))\n",
    "learn.load_encoder('wongnai_enc')"
   ]
  },
  {
   "cell_type": "code",
   "execution_count": 46,
   "metadata": {},
   "outputs": [
    {
     "name": "stdout",
     "output_type": "stream",
     "text": [
      "Total time: 11:17\n",
      "epoch  train_loss  valid_loss  accuracy\n",
      "1      1.182626    1.258669    0.467167  (03:51)\n",
      "2      1.131923    1.203100    0.489500  (03:46)\n",
      "3      1.103224    1.209326    0.498833  (03:40)\n",
      "\n"
     ]
    }
   ],
   "source": [
    "#frozen\n",
    "lr = 0.02\n",
    "learn.freeze_to(-1)\n",
    "learn.fit_one_cycle(cyc_len = 3, \n",
    "                    max_lr= lr, #learning rate\n",
    "                    div_factor=10, #factor to discount from max\n",
    "                    moms = (0.8, 0.7), #momentums\n",
    "                    pct_start = 0.3, #where the peak is at \n",
    "                    wd = 1e-6\n",
    "                   ) \n",
    "learn.save('frozen')"
   ]
  },
  {
   "cell_type": "code",
   "execution_count": 47,
   "metadata": {},
   "outputs": [
    {
     "name": "stdout",
     "output_type": "stream",
     "text": [
      "Total time: 11:48\n",
      "epoch  train_loss  valid_loss  accuracy\n",
      "1      1.130945    1.233015    0.468667  (04:01)\n",
      "2      1.090084    1.224546    0.477000  (03:53)\n",
      "3      1.089605    1.174924    0.494833  (03:53)\n",
      "\n"
     ]
    }
   ],
   "source": [
    "#gradual unfreeze 1\n",
    "lr = 0.01\n",
    "learn.load('frozen')\n",
    "learn.freeze_to(-2)\n",
    "learn.fit_one_cycle(cyc_len = 3, \n",
    "                    max_lr= slice(lr/(2.6**4),lr), #learning rate\n",
    "                    div_factor=10, #factor to discount from max\n",
    "                    moms = (0.8, 0.7), #momentums\n",
    "                    pct_start = 0.3, #where the peak is at \n",
    "                    wd = 1e-6\n",
    "                   ) \n",
    "learn.save('unfreeze_1')"
   ]
  },
  {
   "cell_type": "code",
   "execution_count": 48,
   "metadata": {},
   "outputs": [
    {
     "name": "stdout",
     "output_type": "stream",
     "text": [
      "Total time: 14:58\n",
      "epoch  train_loss  valid_loss  accuracy\n",
      "1      1.066597    1.159384    0.497167  (05:14)\n",
      "2      1.062794    1.188423    0.494667  (04:49)\n",
      "3      1.068656    1.164858    0.500333  (04:53)\n",
      "\n"
     ]
    }
   ],
   "source": [
    "#gradual unfreeze 2\n",
    "lr = 0.005\n",
    "learn.load('unfreeze_1')\n",
    "learn.freeze_to(-3)\n",
    "learn.fit_one_cycle(cyc_len = 3, \n",
    "                    max_lr= slice(lr/(2.6**4),lr), #learning rate\n",
    "                    div_factor=10, #factor to discount from max\n",
    "                    moms = (0.8, 0.7), #momentums\n",
    "                    pct_start = 0.3, #where the peak is at \n",
    "                    wd = 1e-6\n",
    "                   ) \n",
    "learn.save('unfreeze_2')"
   ]
  },
  {
   "cell_type": "code",
   "execution_count": 22,
   "metadata": {},
   "outputs": [
    {
     "name": "stdout",
     "output_type": "stream",
     "text": [
      "Total time: 36:27\n",
      "epoch  train_loss  valid_loss  accuracy\n",
      "1      1.045483    1.182001    0.500500  (07:03)\n",
      "2      1.035142    1.253205    0.483667  (06:51)\n",
      "3      1.040669    1.156537    0.494667  (07:54)\n",
      "4      1.031111    1.134155    0.516000  (07:40)\n",
      "5      1.018597    1.116635    0.520333  (06:56)\n",
      "\n"
     ]
    }
   ],
   "source": [
    "#totally unfrozen\n",
    "lr = 0.0025\n",
    "learn.load('unfreeze_2')\n",
    "learn.unfreeze()\n",
    "learn.fit_one_cycle(cyc_len = 5, \n",
    "                    max_lr= slice(lr/(2.6**4),lr), #learning rate\n",
    "                    div_factor=10, #factor to discount from max\n",
    "                    moms = (0.8, 0.7), #momentums\n",
    "                    pct_start = 0.3, #where the peak is at \n",
    "                    wd = 1e-6\n",
    "                   ) \n",
    "learn.save('unfrozen')"
   ]
  }
 ],
 "metadata": {
  "kernelspec": {
   "display_name": "Python 3",
   "language": "python",
   "name": "python3"
  },
  "language_info": {
   "codemirror_mode": {
    "name": "ipython",
    "version": 3
   },
   "file_extension": ".py",
   "mimetype": "text/x-python",
   "name": "python",
   "nbconvert_exporter": "python",
   "pygments_lexer": "ipython3",
   "version": "3.6.6"
  }
 },
 "nbformat": 4,
 "nbformat_minor": 2
}
